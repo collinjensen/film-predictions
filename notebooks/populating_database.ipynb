{
 "metadata": {
  "language_info": {
   "codemirror_mode": {
    "name": "ipython",
    "version": 3
   },
   "file_extension": ".py",
   "mimetype": "text/x-python",
   "name": "python",
   "nbconvert_exporter": "python",
   "pygments_lexer": "ipython3",
   "version": "3.9.2"
  },
  "orig_nbformat": 4,
  "kernelspec": {
   "name": "python3",
   "display_name": "Python 3.9.2 64-bit ('fucking_with_film-31rp7xRM': virtualenvwrapper)"
  },
  "interpreter": {
   "hash": "fdaf19463f1ac21f7a2280d4608173717038f4e55c3f9a4932bd0b04bc65bdc7"
  }
 },
 "nbformat": 4,
 "nbformat_minor": 2,
 "cells": [
  {
   "cell_type": "code",
   "execution_count": 1,
   "metadata": {},
   "outputs": [],
   "source": [
    "import pandas as pd\n",
    "import requests\n",
    "from bs4 import BeautifulSoup\n",
    "import time\n",
    "import json\n",
    "from sqlalchemy import create_engine\n",
    "import sys\n",
    "import sqlite3\n",
    "import os"
   ]
  },
  {
   "cell_type": "code",
   "execution_count": 185,
   "metadata": {},
   "outputs": [],
   "source": [
    "# reading in a film list exported from letterboxd\n",
    "df = pd.read_csv('download/data/ratings.csv')\n",
    "df.head()"
   ]
  },
  {
   "cell_type": "code",
   "execution_count": null,
   "metadata": {},
   "outputs": [],
   "source": [
    "# environment variables\n",
    "API_HOST = os.getenv('RAPID_HOST')\n",
    "API_KEY = os.getenv('RAPID_KEY')\n",
    "API_URL = os.getenv('RAPID_URL')"
   ]
  },
  {
   "cell_type": "code",
   "execution_count": 186,
   "metadata": {},
   "outputs": [],
   "source": [
    "### FUNCTIONS ###\n",
    "\n",
    "# function to get url from index position in dataframe\n",
    "def get_lurl(i):\n",
    "    url = df.iloc[i][3]\n",
    "    return url\n",
    "\n",
    "# function to get imdb tt from letterboxd url\n",
    "def get_tt(u):\n",
    "    page = requests.get(u)\n",
    "    soup = BeautifulSoup(page.content, 'html.parser')\n",
    "    links = []\n",
    "    for link in soup.body.find_all('a'):\n",
    "        links.append(link.get('href'))\n",
    "    tt = ''\n",
    "    for link in links:\n",
    "        if link != None:\n",
    "            if 'imdb.com/title/tt' in link:\n",
    "                tt += link.split('/')[4]\n",
    "        if len(tt) == 9:\n",
    "            return tt\n",
    "\n",
    "# function that takes an index position, connects to rapidapi, and returns the rating\n",
    "def get_more(i):\n",
    "    tt = get_tt(get_lurl(i))\n",
    "    url = API_URL\n",
    "    querystring = querystring = {\"i\":tt,\"r\":\"json\"}\n",
    "    # TODO REMOVE THESE KEYS\n",
    "    headers = {\n",
    "    'x-rapidapi-key': API_KEY,\n",
    "    'x-rapidapi-host': API_HOST\n",
    "    }\n",
    "    response = requests.request(\"GET\", url, headers=headers, params=querystring)\n",
    "    return json.loads(response.text)"
   ]
  },
  {
   "cell_type": "code",
   "execution_count": null,
   "metadata": {},
   "outputs": [],
   "source": [
    "# adding additional film details from rapidapi\n",
    "df[\"More\"] = \"\"\n",
    "for i in range(0, len(df)):\n",
    "    df[\"More\"][i] = get_more(i)"
   ]
  },
  {
   "cell_type": "code",
   "execution_count": 456,
   "metadata": {},
   "outputs": [],
   "source": [
    "### SAVING THE RETRIEVED DETAILS because that took a while ###\n",
    "saved = df.copy()"
   ]
  },
  {
   "cell_type": "code",
   "execution_count": null,
   "metadata": {},
   "outputs": [],
   "source": [
    "# adding blank columns\n",
    "df[\"Rated\"] = ''\n",
    "df[\"Runtime\"] = ''\n",
    "df[\"Genre\"] = ''\n",
    "df[\"IMDb\"] = ''\n",
    "df[\"Rotten Tomatoes\"] = ''\n",
    "df[\"Metacritic\"] = ''\n",
    "df[\"BoxOffice\"] = ''\n",
    "\n",
    "# extracting and formatting info retrieved from api\n",
    "for i in range(0, len(df)):\n",
    "    if \"Rated\" in df.More[i]:\n",
    "        df.Rated[i] = df.More[i][\"Rated\"]\n",
    "    else:\n",
    "        df.Rated[i] = \"Unrated\"\n",
    "\n",
    "for i in range(0, len(df)):\n",
    "    if \"Runtime\" in df.More[i]:\n",
    "        df.Runtime[i] = df.More[i][\"Runtime\"]\n",
    "\n",
    "for i in range(0, len(df)):\n",
    "    if \"Genre\" in df.More[i]:\n",
    "        df.Genre[i] = df.More[i][\"Genre\"].split(',')[0]\n",
    "\n",
    "for i in range(0, len(df)):\n",
    "    if \"imdbRating\" in df.More[i]:\n",
    "        df.IMDb[i] = df.More[i][\"imdbRating\"]\n",
    "\n",
    "for i in range(0, len(df)):\n",
    "    if \"Ratings\" in df.More[i]:\n",
    "        for x in df.More[i][\"Ratings\"]:\n",
    "            if 'Rotten' in x['Source']:\n",
    "                df[\"Rotten Tomatoes\"][i] = x[\"Value\"]\n",
    "\n",
    "for i in range(0, len(df)):\n",
    "    if \"Ratings\" in df.More[i]:\n",
    "        for x in df.More[i][\"Ratings\"]:\n",
    "            if 'Meta' in x['Source']:\n",
    "                df.Metacritic[i] = x[\"Value\"]\n",
    "\n",
    "for i in range(0, len(df)):\n",
    "    if \"BoxOffice\" in df.More[i]:\n",
    "        df.BoxOffice[i] = df.More[i][\"BoxOffice\"]"
   ]
  },
  {
   "cell_type": "code",
   "execution_count": 470,
   "metadata": {},
   "outputs": [
    {
     "output_type": "execute_result",
     "data": {
      "text/plain": [
       "                             Name  Year  Rating Rated      Genre IMDb  \\\n",
       "0                       Star Wars  1977     4.0    PG     Action  8.6   \n",
       "1                   Breaking Away  1979     4.0    PG     Comedy  7.7   \n",
       "2              The Sound of Music  1965     3.5     G  Biography  8.0   \n",
       "3  One Hundred and One Dalmatians  1961     4.0     G  Animation  7.3   \n",
       "4                      Robin Hood  1973     3.5     G  Animation  7.6   \n",
       "\n",
       "  Rotten Tomatoes Metacritic     BoxOffice  Runtime  \\\n",
       "0             92%     90/100  $460,998,507  121 min   \n",
       "1             95%     91/100   $16,424,918  101 min   \n",
       "2             83%     63/100  $159,287,539  172 min   \n",
       "3             98%     83/100  $144,880,014   79 min   \n",
       "4             54%     57/100           N/A   83 min   \n",
       "\n",
       "                                                More  \n",
       "0  {'Title': 'Star Wars: Episode IV - A New Hope'...  \n",
       "1  {'Title': 'Breaking Away', 'Year': '1979', 'Ra...  \n",
       "2  {'Title': 'The Sound of Music', 'Year': '1965'...  \n",
       "3  {'Title': 'One Hundred and One Dalmatians', 'Y...  \n",
       "4  {'Title': 'Robin Hood', 'Year': '1973', 'Rated...  "
      ],
      "text/html": "<div>\n<style scoped>\n    .dataframe tbody tr th:only-of-type {\n        vertical-align: middle;\n    }\n\n    .dataframe tbody tr th {\n        vertical-align: top;\n    }\n\n    .dataframe thead th {\n        text-align: right;\n    }\n</style>\n<table border=\"1\" class=\"dataframe\">\n  <thead>\n    <tr style=\"text-align: right;\">\n      <th></th>\n      <th>Name</th>\n      <th>Year</th>\n      <th>Rating</th>\n      <th>Rated</th>\n      <th>Genre</th>\n      <th>IMDb</th>\n      <th>Rotten Tomatoes</th>\n      <th>Metacritic</th>\n      <th>BoxOffice</th>\n      <th>Runtime</th>\n      <th>More</th>\n    </tr>\n  </thead>\n  <tbody>\n    <tr>\n      <th>0</th>\n      <td>Star Wars</td>\n      <td>1977</td>\n      <td>4.0</td>\n      <td>PG</td>\n      <td>Action</td>\n      <td>8.6</td>\n      <td>92%</td>\n      <td>90/100</td>\n      <td>$460,998,507</td>\n      <td>121 min</td>\n      <td>{'Title': 'Star Wars: Episode IV - A New Hope'...</td>\n    </tr>\n    <tr>\n      <th>1</th>\n      <td>Breaking Away</td>\n      <td>1979</td>\n      <td>4.0</td>\n      <td>PG</td>\n      <td>Comedy</td>\n      <td>7.7</td>\n      <td>95%</td>\n      <td>91/100</td>\n      <td>$16,424,918</td>\n      <td>101 min</td>\n      <td>{'Title': 'Breaking Away', 'Year': '1979', 'Ra...</td>\n    </tr>\n    <tr>\n      <th>2</th>\n      <td>The Sound of Music</td>\n      <td>1965</td>\n      <td>3.5</td>\n      <td>G</td>\n      <td>Biography</td>\n      <td>8.0</td>\n      <td>83%</td>\n      <td>63/100</td>\n      <td>$159,287,539</td>\n      <td>172 min</td>\n      <td>{'Title': 'The Sound of Music', 'Year': '1965'...</td>\n    </tr>\n    <tr>\n      <th>3</th>\n      <td>One Hundred and One Dalmatians</td>\n      <td>1961</td>\n      <td>4.0</td>\n      <td>G</td>\n      <td>Animation</td>\n      <td>7.3</td>\n      <td>98%</td>\n      <td>83/100</td>\n      <td>$144,880,014</td>\n      <td>79 min</td>\n      <td>{'Title': 'One Hundred and One Dalmatians', 'Y...</td>\n    </tr>\n    <tr>\n      <th>4</th>\n      <td>Robin Hood</td>\n      <td>1973</td>\n      <td>3.5</td>\n      <td>G</td>\n      <td>Animation</td>\n      <td>7.6</td>\n      <td>54%</td>\n      <td>57/100</td>\n      <td>N/A</td>\n      <td>83 min</td>\n      <td>{'Title': 'Robin Hood', 'Year': '1973', 'Rated...</td>\n    </tr>\n  </tbody>\n</table>\n</div>"
     },
     "metadata": {},
     "execution_count": 470
    }
   ],
   "source": [
    "df.head()"
   ]
  },
  {
   "cell_type": "code",
   "execution_count": 485,
   "metadata": {},
   "outputs": [],
   "source": [
    "con = sqlite3.connect('movie_details.db')"
   ]
  },
  {
   "cell_type": "code",
   "execution_count": 529,
   "metadata": {},
   "outputs": [
    {
     "output_type": "stream",
     "name": "stderr",
     "text": [
      "C:\\Users\\Collin\\.virtualenvs\\fucking_with_film-31rp7xRM\\lib\\site-packages\\pandas\\core\\generic.py:2779: UserWarning: The spaces in these column names will not be changed. In pandas versions < 0.14, spaces were converted to underscores.\n  sql.to_sql(\n"
     ]
    }
   ],
   "source": [
    "# now put it in a database\n",
    "con = sqlite3.connect('movie_details.db')\n",
    "df.to_sql('movie_details', con)"
   ]
  },
  {
   "cell_type": "code",
   "execution_count": 2,
   "metadata": {},
   "outputs": [],
   "source": [
    "test = pd.DataFrame()"
   ]
  },
  {
   "cell_type": "code",
   "execution_count": 6,
   "metadata": {},
   "outputs": [],
   "source": [
    "test['1'] = ''"
   ]
  },
  {
   "cell_type": "code",
   "execution_count": null,
   "metadata": {},
   "outputs": [],
   "source": []
  }
 ]
}